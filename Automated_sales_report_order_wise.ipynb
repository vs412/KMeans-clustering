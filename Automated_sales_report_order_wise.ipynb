{
  "nbformat": 4,
  "nbformat_minor": 0,
  "metadata": {
    "colab": {
      "name": "Automated sales report order wise.ipynb",
      "provenance": [],
      "collapsed_sections": [],
      "include_colab_link": true
    },
    "kernelspec": {
      "name": "python3",
      "display_name": "Python 3"
    },
    "accelerator": "GPU"
  },
  "cells": [
    {
      "cell_type": "markdown",
      "metadata": {
        "id": "view-in-github",
        "colab_type": "text"
      },
      "source": [
        "<a href=\"https://colab.research.google.com/github/vs412/KMeans-clustering/blob/master/Automated_sales_report_order_wise.ipynb\" target=\"_parent\"><img src=\"https://colab.research.google.com/assets/colab-badge.svg\" alt=\"Open In Colab\"/></a>"
      ]
    },
    {
      "cell_type": "code",
      "metadata": {
        "id": "RvXgy1dIkMlN",
        "colab_type": "code",
        "colab": {}
      },
      "source": [
        "# Install the PyDrive wrapper & import libraries.\n",
        "# This only needs to be done once per notebook.\n",
        "# !pip install -U -q PyDrive\n",
        "from pydrive.auth import GoogleAuth\n",
        "from pydrive.drive import GoogleDrive\n",
        "from google.colab import auth\n",
        "from oauth2client.client import GoogleCredentials\n",
        "\n",
        "auth.authenticate_user()\n",
        "gauth = GoogleAuth()\n",
        "gauth.credentials = GoogleCredentials.get_application_default()\n",
        "drive = GoogleDrive(gauth)\n",
        "\n",
        "start_date = '2020-01-01'\n",
        "end_date = '2020-01-04'\n",
        "\n",
        "receive_date = '2020-01-05'\n",
        "\n",
        "sales_data = '1GlNUUsSkurloPMXlZAXY_PjE5TkDjFoH' \n",
        "pro_export_vendor = '13Q9vegTNrEFbpHCqu86ohcTGPzqpunR8' ## product export\n",
        "import_ven = '1-gJKgNfOoaAYjmRJeHQw9TYrF6NsOYRz' ## import file\n",
        "ware_house_ven = '1NZomAQWTB2eq3RIjITuRSWFTpxNun6SR'\n",
        "drop_ship_ven = '1jbTaxZ5u4MgC4c33CSdXDhq97fcVW5pr'\n",
        "closeout_sku = '1fNRz-1ND38cdsIqZljdxa6rnCvaHBeuR'\n",
        "#oct sale = 1KeTHqMyvu_jLvn6Fi7Bb8uKKIugVVDwe\n",
        "#nov sale = 1PZWi-RUXJFnXM_lCH1mo6iPcwJ_W22Pb\n",
        "nov_sale = '1PZWi-RUXJFnXM_lCH1mo6iPcwJ_W22Pb'\n",
        "last_month_sale = '1-F9cCJRXMgAZQms26r7uZosJHErMP8Ld'\n",
        "monthly_sale = '1vHRDF0ciAVeNMXqPM8fbPSWhaTnPJYZX' \n",
        "\n",
        "sales_raw = drive.CreateFile({'id': sales_data})\n",
        "pro_export_vendor = drive.CreateFile({'id': pro_export_vendor})\n",
        "import_ven = drive.CreateFile({'id': import_ven})\n",
        "ware_house_ven = drive.CreateFile({'id': ware_house_ven})\n",
        "nov_sale = drive.CreateFile({'id': nov_sale})\n",
        "last_month_sale = drive.CreateFile({'id': last_month_sale})\n",
        "monthly_sale = drive.CreateFile({'id': monthly_sale})\n",
        "drop_ship_ven = drive.CreateFile({'id': drop_ship_ven})\n",
        "closeout_sku = drive.CreateFile({'id': closeout_sku})\n",
        "\n",
        "# Download the file to a local disk as 'exported.xlsx'.\n",
        "sales_raw.GetContentFile('Sales order.xlsx')\n",
        "pro_export_vendor.GetContentFile('export.xlsx')\n",
        "import_ven.GetContentFile('Import List (5).xlsx')\n",
        "ware_house_ven.GetContentFile('ware_house_ven.xlsx')\n",
        "nov_sale.GetContentFile('nov_sale.xlsx')\n",
        "monthly_sale.GetContentFile('monthly_sale.xlsx')\n",
        "last_month_sale.GetContentFile('last_month_sale.xlsx')\n",
        "drop_ship_ven.GetContentFile('drop_ship_ven.xlsx')\n",
        "closeout_sku.GetContentFile('closeout_sku.xlsx')"
      ],
      "execution_count": 0,
      "outputs": []
    },
    {
      "cell_type": "code",
      "metadata": {
        "id": "iJUXGamekPY2",
        "colab_type": "code",
        "colab": {}
      },
      "source": [
        "import pandas as pd\n",
        "import numpy as np\n",
        "\n",
        "sale_report = pd.read_excel('Sales order.xlsx',sheet_name = 0)\n",
        "## reading the Casagear Data\n",
        "casagear = pd.read_excel('Sales order.xlsx',sheet_name=2)\n",
        "amazon = pd.read_excel('Sales order.xlsx',sheet_name=1)"
      ],
      "execution_count": 0,
      "outputs": []
    },
    {
      "cell_type": "code",
      "metadata": {
        "id": "UbxsXBCDAcaz",
        "colab_type": "code",
        "colab": {}
      },
      "source": [
        "ds_total = pd.read_excel('monthly_sale.xlsx',sheet_name=0)\n",
        "ds_import = pd.read_excel('monthly_sale.xlsx',sheet_name=1)\n",
        "ds_warehouse = pd.read_excel('monthly_sale.xlsx',sheet_name=2)\n",
        "ds_dropship = pd.read_excel('monthly_sale.xlsx',sheet_name=3)\n",
        "ds_closeout = pd.read_excel('monthly_sale.xlsx',sheet_name=4)\n",
        "\n",
        "ds_total['Date'] = pd.to_datetime(ds_total['Date'])\n",
        "ds_import['Date'] = pd.to_datetime(ds_import['Date'])\n",
        "ds_warehouse['Date'] = pd.to_datetime(ds_warehouse['Date'])\n",
        "ds_dropship['Date'] = pd.to_datetime(ds_dropship['Date'])\n",
        "ds_closeout['Date'] = pd.to_datetime(ds_closeout['Date'])"
      ],
      "execution_count": 0,
      "outputs": []
    },
    {
      "cell_type": "code",
      "metadata": {
        "id": "c8LoZJ65AlAE",
        "colab_type": "code",
        "outputId": "cf6cd938-508e-4f01-d0a3-dbf778a8da4e",
        "colab": {
          "base_uri": "https://localhost:8080/",
          "height": 34
        }
      },
      "source": [
        "ds_import['Line Total'].sum()"
      ],
      "execution_count": 23,
      "outputs": [
        {
          "output_type": "execute_result",
          "data": {
            "text/plain": [
              "50073.88"
            ]
          },
          "metadata": {
            "tags": []
          },
          "execution_count": 23
        }
      ]
    },
    {
      "cell_type": "code",
      "metadata": {
        "id": "AVF84x61kSgN",
        "colab_type": "code",
        "outputId": "d903ba61-ed17-4f6e-efd4-5679b1f0aab0",
        "colab": {
          "base_uri": "https://localhost:8080/",
          "height": 34
        }
      },
      "source": [
        "# sale_report['Line Total'].sum()\n",
        "# casagear['Total'].sum()\n",
        "amazon['item-price'].sum()"
      ],
      "execution_count": 24,
      "outputs": [
        {
          "output_type": "execute_result",
          "data": {
            "text/plain": [
              "5967.32"
            ]
          },
          "metadata": {
            "tags": []
          },
          "execution_count": 24
        }
      ]
    },
    {
      "cell_type": "code",
      "metadata": {
        "id": "931akYRNkTAb",
        "colab_type": "code",
        "colab": {}
      },
      "source": [
        "## Filtering the data\n",
        "# sale_report['Sales Channel'].str.strip()\n",
        "index = sale_report[sale_report['Sales Channel'] == 'Amazon'].index\n",
        "if(len(index)!=0 ):\n",
        "    sale_report.drop(index,inplace=True)\n",
        "    \n",
        "index = sale_report[sale_report['Sales Channel'] == 'Casagear'].index\n",
        "if(len(index)!=0 ):\n",
        "    sale_report.drop(index,inplace=True)\n",
        "    \n",
        "index = sale_report[sale_report['Sales Channel'] == 'Amazon Vendor US'].index\n",
        "if(len(index)!=0 ):\n",
        "    sale_report.drop(index,inplace=True)\n",
        "    \n",
        "index = sale_report[sale_report['Sales Channel'] == 'Amazon Vendor CA'].index\n",
        "if(len(index)!=0 ):\n",
        "    sale_report.drop(index,inplace=True)\n",
        "\n",
        "index = sale_report[sale_report['Sales Channel'] == 'Amazon CA'].index\n",
        "if(len(index)!=0 ):\n",
        "    sale_report.drop(index,inplace=True)    \n",
        "    \n",
        "index = sale_report[sale_report['Sales Order Status'] == 'CANCELLED'].index\n",
        "\n",
        "if(len(index)!=0 ):\n",
        "    sale_report.drop(index,inplace=True)\n",
        "    \n",
        "index = sale_report[sale_report['SKU'] == 'Sample'].index\n",
        "if(len(index)!=0 ):\n",
        "    sale_report.drop(index,inplace=True)\n",
        "\n",
        "index = sale_report[sale_report['SKU'] == 'sample'].index\n",
        "if(len(index)!=0 ):\n",
        "    sale_report.drop(index,inplace=True)\n",
        "   \n",
        "index = sale_report[sale_report['Receive Date'] != receive_date].index\n",
        "if(len(index)!=0 ):\n",
        "    sale_report.drop(index,inplace=True)"
      ],
      "execution_count": 0,
      "outputs": []
    },
    {
      "cell_type": "code",
      "metadata": {
        "id": "K_CSJnUdkXjo",
        "colab_type": "code",
        "colab": {}
      },
      "source": [
        "## reading the Amazon Data\n",
        "amazon = pd.read_excel('Sales order.xlsx',sheet_name=1)\n",
        "## Trimmimg the columns\n",
        "amazon.columns = amazon.columns.str.strip()\n",
        "## Filtering the Amazon Data\n",
        "index = amazon[amazon['order-status'] == 'Cancelled'].index\n",
        "if(len(index) != 0):\n",
        "    amazon.drop(index,inplace=True)    \n",
        "index = amazon[amazon['sales-channel'] == 'Non-Amazon'].index\n",
        "if(len(index) != 0):\n",
        "    amazon.drop(index,inplace=True) \n",
        "index = amazon[amazon['item-price'] == 0.0].index\n",
        "if(len(index) != 0):\n",
        "    amazon.drop(index,inplace=True) \n",
        "amazon['fulfillment-channel'].replace('Merchant','Amazon FBM',inplace=True)\n",
        "amazon['fulfillment-channel'].replace('Amazon','Amazon FBA',inplace=True)\n",
        "\n",
        "## Concatinating the Sales orders\n",
        "meow = amazon['fulfillment-channel']\n",
        "meow.reset_index(drop=True, inplace=True)\n",
        "sale_report.reset_index(drop=True, inplace=True)\n",
        "test = pd.concat([sale_report['Sales Channel'],meow], axis=0, ignore_index=True).iloc[0:]\n",
        "new_data = pd.DataFrame(test,columns = ['Sales Channel'])\n",
        "\n",
        "## Concatinating the Sales Channel order id\n",
        "meow = amazon['amazon-order-id']\n",
        "meow.reset_index(drop=True, inplace=True)\n",
        "sale_report.reset_index(drop=True, inplace=True)\n",
        "test = pd.concat([sale_report['Sales Channel Order Id'],meow], axis=0, ignore_index=True).iloc[0:]\n",
        "new_data['Sales Channel Order Id'] = test\n",
        "\n",
        "## Appending sku\n",
        "meow = amazon['sku']\n",
        "meow.reset_index(drop=True, inplace=True)\n",
        "sale_report.reset_index(drop=True, inplace=True)\n",
        "test = pd.concat([sale_report['SKU'],meow], axis=0, ignore_index=True).iloc[0:]\n",
        "new_data['SKU'] = test\n",
        "\n",
        "## Appending Quantity\n",
        "meow = amazon['quantity']\n",
        "meow.reset_index(drop=True, inplace=True)\n",
        "sale_report.reset_index(drop=True, inplace=True)\n",
        "test = pd.concat([sale_report['Quantity'],meow], axis=0, ignore_index=True).iloc[0:]\n",
        "new_data['Quantity'] = test\n",
        "\n",
        "## Appending Line total\n",
        "meow = amazon['item-price']\n",
        "meow.reset_index(drop=True, inplace=True)\n",
        "sale_report.reset_index(drop=True, inplace=True)\n",
        "test = pd.concat([sale_report['Line Total'],meow], axis=0, ignore_index=True).iloc[0:]\n",
        "new_data['Line Total'] = test"
      ],
      "execution_count": 0,
      "outputs": []
    },
    {
      "cell_type": "code",
      "metadata": {
        "id": "4anR2eslS7Mq",
        "colab_type": "code",
        "colab": {}
      },
      "source": [
        "## Adding the Ship to name\n",
        "new_data.insert(loc=1,column = 'Ship To Name',value = sale_report['Ship To Name'])\n",
        "\n",
        "## Inserting sales order ID\n",
        "new_data.insert(loc=1,column = 'Sales Order Id',value = sale_report['Sales Order Id'])\n"
      ],
      "execution_count": 0,
      "outputs": []
    },
    {
      "cell_type": "code",
      "metadata": {
        "id": "Y8TBR7O0kZpQ",
        "colab_type": "code",
        "colab": {}
      },
      "source": [
        "## Preparing Casagear data\n",
        "casagear.columns = casagear.columns.str.strip()\n",
        "new_casa = pd.DataFrame(columns = new_data.columns )\n",
        "\n",
        "new_casa.SKU = casagear['Lineitem sku']\n",
        "new_casa['Sales Channel'] = 'Casagear'\n",
        "new_casa['Quantity'] = casagear['Lineitem quantity']\n",
        "new_casa['Sales Channel Order Id'] = casagear['Name']\n",
        "new_casa['Line Total'] = casagear['Total']\n",
        "new_casa['Ship To Name'] = casagear['Billing Name']\n",
        "\n",
        "\n",
        "new_data = new_data.append(new_casa, ignore_index=True)\n",
        "\n",
        "## inserting Columns Normal and Vendor\n",
        "new_data.insert(loc = 3, column = 'Normal', value = '')\n",
        "new_data.insert(loc = 4, column = 'Vendor', value = '')\n",
        "\n",
        "final = new_data\n",
        "#Making Columns in order\n",
        "# df = new_data\n",
        "# cols = list(df.columns.values)\n",
        "final = final[['Sales Channel', 'Sales Order Id','Ship To Name','SKU' ,'Normal', 'Vendor','Quantity', 'Line Total','Sales Channel Order Id']]"
      ],
      "execution_count": 0,
      "outputs": []
    },
    {
      "cell_type": "code",
      "metadata": {
        "id": "XTGN3ARVkcTR",
        "colab_type": "code",
        "colab": {}
      },
      "source": [
        "final['SKU'] = final['SKU'].astype(str)"
      ],
      "execution_count": 0,
      "outputs": []
    },
    {
      "cell_type": "code",
      "metadata": {
        "id": "jhqVuLhXXC-a",
        "colab_type": "code",
        "outputId": "3b06217d-472a-4cb4-932a-a20003a16a58",
        "colab": {
          "base_uri": "https://localhost:8080/",
          "height": 419
        }
      },
      "source": [
        "final.drop_duplicates()"
      ],
      "execution_count": 30,
      "outputs": [
        {
          "output_type": "execute_result",
          "data": {
            "text/html": [
              "<div>\n",
              "<style scoped>\n",
              "    .dataframe tbody tr th:only-of-type {\n",
              "        vertical-align: middle;\n",
              "    }\n",
              "\n",
              "    .dataframe tbody tr th {\n",
              "        vertical-align: top;\n",
              "    }\n",
              "\n",
              "    .dataframe thead th {\n",
              "        text-align: right;\n",
              "    }\n",
              "</style>\n",
              "<table border=\"1\" class=\"dataframe\">\n",
              "  <thead>\n",
              "    <tr style=\"text-align: right;\">\n",
              "      <th></th>\n",
              "      <th>Sales Channel</th>\n",
              "      <th>Sales Order Id</th>\n",
              "      <th>Ship To Name</th>\n",
              "      <th>SKU</th>\n",
              "      <th>Normal</th>\n",
              "      <th>Vendor</th>\n",
              "      <th>Quantity</th>\n",
              "      <th>Line Total</th>\n",
              "      <th>Sales Channel Order Id</th>\n",
              "    </tr>\n",
              "  </thead>\n",
              "  <tbody>\n",
              "    <tr>\n",
              "      <th>0</th>\n",
              "      <td>Overstock</td>\n",
              "      <td>650903.0</td>\n",
              "      <td>Todd Fortier</td>\n",
              "      <td>BM184804</td>\n",
              "      <td></td>\n",
              "      <td></td>\n",
              "      <td>1.0</td>\n",
              "      <td>578.82</td>\n",
              "      <td>44226159-1</td>\n",
              "    </tr>\n",
              "    <tr>\n",
              "      <th>1</th>\n",
              "      <td>Wayfair</td>\n",
              "      <td>650902.0</td>\n",
              "      <td>Annie Lindberg</td>\n",
              "      <td>UPT-165867</td>\n",
              "      <td></td>\n",
              "      <td></td>\n",
              "      <td>1.0</td>\n",
              "      <td>89.01</td>\n",
              "      <td>CS206146206</td>\n",
              "    </tr>\n",
              "    <tr>\n",
              "      <th>5</th>\n",
              "      <td>Hayneedle</td>\n",
              "      <td>650900.0</td>\n",
              "      <td>Michelle Wood</td>\n",
              "      <td>BM159116</td>\n",
              "      <td></td>\n",
              "      <td></td>\n",
              "      <td>1.0</td>\n",
              "      <td>153.60</td>\n",
              "      <td>91026038</td>\n",
              "    </tr>\n",
              "    <tr>\n",
              "      <th>6</th>\n",
              "      <td>Hayneedle</td>\n",
              "      <td>650899.0</td>\n",
              "      <td>Dina Verken</td>\n",
              "      <td>BM141912</td>\n",
              "      <td></td>\n",
              "      <td></td>\n",
              "      <td>1.0</td>\n",
              "      <td>187.15</td>\n",
              "      <td>91025375</td>\n",
              "    </tr>\n",
              "    <tr>\n",
              "      <th>7</th>\n",
              "      <td>Hayneedle</td>\n",
              "      <td>650898.0</td>\n",
              "      <td>Kristina Fisher</td>\n",
              "      <td>MAF-100016</td>\n",
              "      <td></td>\n",
              "      <td></td>\n",
              "      <td>1.0</td>\n",
              "      <td>26.49</td>\n",
              "      <td>91025378</td>\n",
              "    </tr>\n",
              "    <tr>\n",
              "      <th>...</th>\n",
              "      <td>...</td>\n",
              "      <td>...</td>\n",
              "      <td>...</td>\n",
              "      <td>...</td>\n",
              "      <td>...</td>\n",
              "      <td>...</td>\n",
              "      <td>...</td>\n",
              "      <td>...</td>\n",
              "      <td>...</td>\n",
              "    </tr>\n",
              "    <tr>\n",
              "      <th>416</th>\n",
              "      <td>Amazon FBM</td>\n",
              "      <td>NaN</td>\n",
              "      <td>NaN</td>\n",
              "      <td>GL-THROWRU</td>\n",
              "      <td></td>\n",
              "      <td></td>\n",
              "      <td>1.0</td>\n",
              "      <td>12.37</td>\n",
              "      <td>111-9117947-5941869</td>\n",
              "    </tr>\n",
              "    <tr>\n",
              "      <th>417</th>\n",
              "      <td>Amazon FBA</td>\n",
              "      <td>NaN</td>\n",
              "      <td>NaN</td>\n",
              "      <td>BM142072</td>\n",
              "      <td></td>\n",
              "      <td></td>\n",
              "      <td>1.0</td>\n",
              "      <td>4.90</td>\n",
              "      <td>113-3984442-4037026</td>\n",
              "    </tr>\n",
              "    <tr>\n",
              "      <th>418</th>\n",
              "      <td>Amazon FBM</td>\n",
              "      <td>NaN</td>\n",
              "      <td>NaN</td>\n",
              "      <td>BM01021</td>\n",
              "      <td></td>\n",
              "      <td></td>\n",
              "      <td>1.0</td>\n",
              "      <td>50.06</td>\n",
              "      <td>111-9698134-7278615</td>\n",
              "    </tr>\n",
              "    <tr>\n",
              "      <th>419</th>\n",
              "      <td>Amazon FBM</td>\n",
              "      <td>NaN</td>\n",
              "      <td>NaN</td>\n",
              "      <td>GL-1806BMSQ</td>\n",
              "      <td></td>\n",
              "      <td></td>\n",
              "      <td>1.0</td>\n",
              "      <td>20.43</td>\n",
              "      <td>113-4056048-7978648</td>\n",
              "    </tr>\n",
              "    <tr>\n",
              "      <th>420</th>\n",
              "      <td>Amazon FBM</td>\n",
              "      <td>NaN</td>\n",
              "      <td>NaN</td>\n",
              "      <td>40302</td>\n",
              "      <td></td>\n",
              "      <td></td>\n",
              "      <td>1.0</td>\n",
              "      <td>17.69</td>\n",
              "      <td>111-8414271-5726616</td>\n",
              "    </tr>\n",
              "  </tbody>\n",
              "</table>\n",
              "<p>417 rows × 9 columns</p>\n",
              "</div>"
            ],
            "text/plain": [
              "    Sales Channel  Sales Order Id  ... Line Total Sales Channel Order Id\n",
              "0       Overstock        650903.0  ...     578.82             44226159-1\n",
              "1         Wayfair        650902.0  ...      89.01            CS206146206\n",
              "5       Hayneedle        650900.0  ...     153.60               91026038\n",
              "6       Hayneedle        650899.0  ...     187.15               91025375\n",
              "7       Hayneedle        650898.0  ...      26.49               91025378\n",
              "..            ...             ...  ...        ...                    ...\n",
              "416    Amazon FBM             NaN  ...      12.37    111-9117947-5941869\n",
              "417    Amazon FBA             NaN  ...       4.90    113-3984442-4037026\n",
              "418    Amazon FBM             NaN  ...      50.06    111-9698134-7278615\n",
              "419    Amazon FBM             NaN  ...      20.43    113-4056048-7978648\n",
              "420    Amazon FBM             NaN  ...      17.69    111-8414271-5726616\n",
              "\n",
              "[417 rows x 9 columns]"
            ]
          },
          "metadata": {
            "tags": []
          },
          "execution_count": 30
        }
      ]
    },
    {
      "cell_type": "code",
      "metadata": {
        "id": "PkJuZV9YmlF1",
        "colab_type": "code",
        "outputId": "4807876f-9503-4eed-9d4f-2642179f70b4",
        "colab": {
          "base_uri": "https://localhost:8080/",
          "height": 459
        }
      },
      "source": [
        "# final = final.reset_index()\n",
        "pro_exp = pd.read_excel('export.xlsx')\n",
        "\n",
        "pro_exp['Masked SKU'] = pro_exp['Masked SKU'].astype(str)\n",
        "pro_exp['SKU'] = pro_exp['SKU'].astype(str)\n",
        "\n",
        "pro_exp.rename(columns={'Masked SKU':'SKU', 'SKU':'Normal_product'}, inplace=True)\n",
        "# pro_exp.head()\n",
        "final['SKU'] = final['SKU'].astype(str)\n",
        "pro_exp['SKU'] = pro_exp['SKU'].astype(str)\n",
        "pro_exp['Normal_product'] = pro_exp['Normal_product'].astype(str)\n",
        "\n",
        "store = final.merge(pro_exp, on='SKU', how='left')\n",
        "\n",
        "store = store[(store['Line Total'].notnull()) & (store['SKU']!='nan')]\n",
        "\n",
        "store['Normal'] = store['Normal_product']\n",
        "store['Vendor'] = np.nan\n",
        "final = store[['Sales Channel', 'Sales Order Id','Ship To Name','SKU' ,'Normal', 'Vendor','Quantity', 'Line Total','Sales Channel Order Id']]\n",
        "\n",
        "final['Normal'][(final['SKU'].isin(pro_exp.Normal_product)) & (final['Normal'].isnull())] = final['SKU']\n",
        "\n",
        "search_sku = set((final.SKU[final['Normal'].isnull()]))\n",
        "print (\"Total No. of SKU for which Normal Not Found\", set((final.SKU[final['Normal'].isnull()])))\n",
        "for sku in search_sku:\n",
        "  new_sku = input(\"Type Normal value for \"+sku+\" \")\n",
        "  final.Normal[final['SKU'] == sku] = new_sku"
      ],
      "execution_count": 31,
      "outputs": [
        {
          "output_type": "stream",
          "text": [
            "/usr/local/lib/python3.6/dist-packages/ipykernel_launcher.py:20: SettingWithCopyWarning: \n",
            "A value is trying to be set on a copy of a slice from a DataFrame\n",
            "\n",
            "See the caveats in the documentation: http://pandas.pydata.org/pandas-docs/stable/user_guide/indexing.html#returning-a-view-versus-a-copy\n",
            "/usr/local/lib/python3.6/dist-packages/pandas/core/generic.py:9114: SettingWithCopyWarning: \n",
            "A value is trying to be set on a copy of a slice from a DataFrame\n",
            "\n",
            "See the caveats in the documentation: http://pandas.pydata.org/pandas-docs/stable/user_guide/indexing.html#returning-a-view-versus-a-copy\n",
            "  self._update_inplace(new_data)\n",
            "/usr/local/lib/python3.6/dist-packages/IPython/core/interactiveshell.py:2882: SettingWithCopyWarning: \n",
            "A value is trying to be set on a copy of a slice from a DataFrame\n",
            "\n",
            "See the caveats in the documentation: http://pandas.pydata.org/pandas-docs/stable/user_guide/indexing.html#returning-a-view-versus-a-copy\n",
            "  exec(code_obj, self.user_global_ns, self.user_ns)\n"
          ],
          "name": "stderr"
        },
        {
          "output_type": "stream",
          "text": [
            "Total No. of SKU for which Normal Not Found {'BM206289', 'BM204995', 'BM161592', 'BM207592', 'SDT-BUF-21515', 'SH8760', 'BM206082'}\n",
            "Type Normal value for BM206289 BM206289\n"
          ],
          "name": "stdout"
        },
        {
          "output_type": "stream",
          "text": [
            "/usr/local/lib/python3.6/dist-packages/ipykernel_launcher.py:26: SettingWithCopyWarning: \n",
            "A value is trying to be set on a copy of a slice from a DataFrame\n",
            "\n",
            "See the caveats in the documentation: http://pandas.pydata.org/pandas-docs/stable/user_guide/indexing.html#returning-a-view-versus-a-copy\n"
          ],
          "name": "stderr"
        },
        {
          "output_type": "stream",
          "text": [
            "Type Normal value for BM204995 BM204995\n",
            "Type Normal value for BM161592 BM161592\n",
            "Type Normal value for BM207592 BM207592\n",
            "Type Normal value for SDT-BUF-21515 SDT-BUF-21515\n",
            "Type Normal value for SH8760 NAU-SH8760\n",
            "Type Normal value for BM206082 BM206082\n"
          ],
          "name": "stdout"
        }
      ]
    },
    {
      "cell_type": "code",
      "metadata": {
        "id": "LBkwhEypyjiB",
        "colab_type": "code",
        "outputId": "5bca8612-c13c-4657-cc37-ecbfb28a03c1",
        "colab": {
          "base_uri": "https://localhost:8080/",
          "height": 306
        }
      },
      "source": [
        "vendor = pd.read_excel('Import List (5).xlsx')\n",
        "\n",
        "vendor['Retail Channel SKU'] = vendor['Retail Channel SKU'].astype(str)\n",
        "vendor['Vendor/ Mask SKU'] = vendor['Vendor/ Mask SKU'].astype(str)\n",
        "vendor['Vendor'] = vendor['Vendor'].astype(str)\n",
        "\n",
        "vendor.rename(columns={'Retail Channel SKU':'Normal', 'Vendor':'Vendor_Import'}, inplace=True)\n",
        "# mask_vendor.rename(columns={'SKU':'Normal', 'Vendor':'Vendor_Import'}, inplace=True)\n",
        "\n",
        "final['Normal'] = final['Normal'].astype(str)\n",
        "\n",
        "store = final.merge(vendor, on='Normal', how='left')\n",
        "\n",
        "store['Vendor'] = store['Vendor_Import']\n",
        "\n",
        "store = store[['Sales Channel', 'Sales Order Id','Ship To Name','SKU' ,'Normal', 'Vendor','Quantity', 'Line Total','Sales Channel Order Id']]\n",
        "final = store\n",
        "\n",
        "vendor.rename(columns={'Normal':'Retail Channel SKU', 'Vendor/ Mask SKU':'Normal', 'Vendor_Import':'Vendor_Import_2'}, inplace=True)\n",
        "store_new = final.merge(vendor, on='Normal', how='left')\n",
        "store_new['Vendor'].fillna(store_new['Vendor_Import_2'])\n",
        "\n",
        "import_file = store_new[store_new.Vendor.isnull() != True]\n",
        "\n",
        "pro_exp.rename(columns={'SKU':'Masked SKU', 'Normal_product':'Normal', 'Vendor':'Vendor_f'}, inplace=True)\n",
        "\n",
        "total = store_new.merge(pro_exp, on='Normal', how='left')\n",
        "total['Vendor'] = total['Vendor'].fillna(total['Vendor_f'])\n",
        "\n",
        "search_vendor = set((total.Normal[total.Vendor.isnull()]))\n",
        "print (\"Total No. of Normal for which Vendor Not Found\", search_vendor)\n",
        "\n",
        "for normal in search_vendor:\n",
        "  new_vendor = input(\"Type vendor value for \"+normal+\" \")\n",
        "  total.Vendor[total['Normal'] == normal] = new_vendor\n"
      ],
      "execution_count": 32,
      "outputs": [
        {
          "output_type": "stream",
          "text": [
            "/usr/local/lib/python3.6/dist-packages/ipykernel_launcher.py:10: SettingWithCopyWarning: \n",
            "A value is trying to be set on a copy of a slice from a DataFrame.\n",
            "Try using .loc[row_indexer,col_indexer] = value instead\n",
            "\n",
            "See the caveats in the documentation: http://pandas.pydata.org/pandas-docs/stable/user_guide/indexing.html#returning-a-view-versus-a-copy\n",
            "  # Remove the CWD from sys.path while we load stuff.\n"
          ],
          "name": "stderr"
        },
        {
          "output_type": "stream",
          "text": [
            "Total No. of Normal for which Vendor Not Found {'BM206289', 'BM204995', 'BM161592', 'BM207592', 'SDT-BUF-21515', 'BM206082'}\n",
            "Type vendor value for BM206289 FOA Wholesale\n"
          ],
          "name": "stdout"
        },
        {
          "output_type": "stream",
          "text": [
            "/usr/local/lib/python3.6/dist-packages/ipykernel_launcher.py:35: SettingWithCopyWarning: \n",
            "A value is trying to be set on a copy of a slice from a DataFrame\n",
            "\n",
            "See the caveats in the documentation: http://pandas.pydata.org/pandas-docs/stable/user_guide/indexing.html#returning-a-view-versus-a-copy\n"
          ],
          "name": "stderr"
        },
        {
          "output_type": "stream",
          "text": [
            "Type vendor value for BM204995 Uttermost Private Label\n",
            "Type vendor value for BM161592 Sagebrookhome\n",
            "Type vendor value for BM207592 FOA Wholesale\n",
            "Type vendor value for SDT-BUF-21515 Summit Distribution\n",
            "Type vendor value for BM206082 Sagebrookhome\n"
          ],
          "name": "stdout"
        }
      ]
    },
    {
      "cell_type": "markdown",
      "metadata": {
        "id": "Tt6ooA8TcNgF",
        "colab_type": "text"
      },
      "source": [
        "## Warehouse Vendor"
      ]
    },
    {
      "cell_type": "code",
      "metadata": {
        "id": "V-N9IeMMXyLt",
        "colab_type": "code",
        "colab": {}
      },
      "source": [
        "ware_vendor = pd.read_csv('ware_house_ven.xlsx')\n",
        "ware_vendor.rename(columns={'Vendor Name':'Vendor'}, inplace=True)\n",
        "ware_vendor['ware_vendors'] = ware_vendor['Vendor']\n",
        "\n",
        "ware_vendor['Vendor'] = ware_vendor['Vendor'].astype(str)\n",
        "ware_vendor['Vendor'] = ware_vendor['Vendor'].str.strip()\n",
        "total['Vendor']=total['Vendor'].astype(str)\n",
        "total['Vendor']=total['Vendor'].str.strip()\n",
        "\n",
        "ware_vendor_file = total.merge(ware_vendor, on='Vendor', how='left')\n",
        "ware_vendor_file = ware_vendor_file[ware_vendor_file['ware_vendors'].isnull()!=True]\n"
      ],
      "execution_count": 0,
      "outputs": []
    },
    {
      "cell_type": "markdown",
      "metadata": {
        "id": "rOZGLf0A5U6P",
        "colab_type": "text"
      },
      "source": [
        "## Get Coustomize column"
      ]
    },
    {
      "cell_type": "code",
      "metadata": {
        "id": "tEM48tm64MB2",
        "colab_type": "code",
        "outputId": "b384223d-39eb-4137-b577-0f053b459015",
        "colab": {
          "base_uri": "https://localhost:8080/",
          "height": 122
        }
      },
      "source": [
        "!pip install xlsxwriter\n",
        "\n",
        "#Get Coustomize column\n",
        "total_file = total[['Sales Channel', 'Sales Order Id', 'Ship To Name', 'SKU', 'Normal', 'Vendor', 'Quantity', 'Line Total', 'Sales Channel Order Id']].round(2)\n",
        "\n",
        "import_file = import_file[['Sales Channel', 'Sales Order Id', 'Ship To Name', 'SKU', 'Normal', 'Vendor', 'Quantity', 'Line Total', 'Sales Channel Order Id']].round(2)\n",
        "\n",
        "ware_vendor_file = ware_vendor_file[['Sales Channel', 'Sales Order Id', 'Ship To Name', 'SKU', 'Normal', 'Vendor', 'Quantity', 'Line Total', 'Sales Channel Order Id']].round(2)"
      ],
      "execution_count": 34,
      "outputs": [
        {
          "output_type": "stream",
          "text": [
            "Collecting xlsxwriter\n",
            "\u001b[?25l  Downloading https://files.pythonhosted.org/packages/0d/0c/4376ce9d0773c9969271419d4c843bf9b845d831a555f5abb6229e74ac1e/XlsxWriter-1.2.7-py2.py3-none-any.whl (141kB)\n",
            "\r\u001b[K     |██▎                             | 10kB 28.3MB/s eta 0:00:01\r\u001b[K     |████▋                           | 20kB 34.4MB/s eta 0:00:01\r\u001b[K     |███████                         | 30kB 40.4MB/s eta 0:00:01\r\u001b[K     |█████████▎                      | 40kB 42.3MB/s eta 0:00:01\r\u001b[K     |███████████▋                    | 51kB 43.3MB/s eta 0:00:01\r\u001b[K     |██████████████                  | 61kB 46.2MB/s eta 0:00:01\r\u001b[K     |████████████████▏               | 71kB 46.3MB/s eta 0:00:01\r\u001b[K     |██████████████████▌             | 81kB 47.3MB/s eta 0:00:01\r\u001b[K     |████████████████████▉           | 92kB 48.8MB/s eta 0:00:01\r\u001b[K     |███████████████████████▏        | 102kB 48.7MB/s eta 0:00:01\r\u001b[K     |█████████████████████████▌      | 112kB 48.7MB/s eta 0:00:01\r\u001b[K     |███████████████████████████▉    | 122kB 48.7MB/s eta 0:00:01\r\u001b[K     |██████████████████████████████  | 133kB 48.7MB/s eta 0:00:01\r\u001b[K     |████████████████████████████████| 143kB 48.7MB/s \n",
            "\u001b[?25hInstalling collected packages: xlsxwriter\n",
            "Successfully installed xlsxwriter-1.2.7\n"
          ],
          "name": "stdout"
        }
      ]
    },
    {
      "cell_type": "markdown",
      "metadata": {
        "id": "AkNRMKxT7KHW",
        "colab_type": "text"
      },
      "source": [
        "## DropShip Vendors"
      ]
    },
    {
      "cell_type": "code",
      "metadata": {
        "id": "aBNM_IvN7I3t",
        "colab_type": "code",
        "colab": {}
      },
      "source": [
        "dropship = total_file\n",
        "dropship_vendor = pd.read_csv('drop_ship_ven.xlsx')\n",
        "\n",
        "dropship_file = dropship[(dropship['Vendor'].isin(dropship_vendor['Vendor Name'])) & (dropship['Sales Channel'].isin(['Open Sky', 'Casagear', 'Amazon FBM', 'Walmart']))]\n"
      ],
      "execution_count": 0,
      "outputs": []
    },
    {
      "cell_type": "markdown",
      "metadata": {
        "id": "ZewOFRCxrrRb",
        "colab_type": "text"
      },
      "source": [
        "## CloseOut File"
      ]
    },
    {
      "cell_type": "code",
      "metadata": {
        "id": "c_3_O468rvl4",
        "colab_type": "code",
        "colab": {}
      },
      "source": [
        "closeout_sku = pd.read_excel('closeout_sku.xlsx')\n",
        "closeout_sku['SKU'] = closeout_sku['SKU'].astype(str)\n",
        "\n",
        "#Filter Non CloseOut From All Sales Category\n",
        "import_file = import_file[~import_file['Normal'].isin(closeout_sku['SKU'])]\n",
        "ware_vendor_file = ware_vendor_file[~ware_vendor_file['Normal'].isin(closeout_sku['SKU']) & ~ware_vendor_file['Normal'].isin(import_file['Normal'])]\n",
        "dropship_file = dropship_file[~dropship_file['Normal'].isin(closeout_sku['SKU']) & ~dropship_file['Normal'].isin(import_file['SKU'])& ~dropship_file['Normal'].isin(ware_vendor_file['SKU'])]\n",
        "closeout_file = total_file[(total_file['Normal'].isin(closeout_sku['SKU']))]\n",
        "\n",
        "category_notfound_sku = total_file[(~total_file['Normal'].isin(closeout_file['Normal']) & ~total_file['Normal'].isin(import_file['Normal']) & ~total_file['Normal'].isin(ware_vendor_file['Normal']) & ~total_file['Normal'].isin(dropship_file['Normal']))]"
      ],
      "execution_count": 0,
      "outputs": []
    },
    {
      "cell_type": "markdown",
      "metadata": {
        "id": "w80IysfcDaiR",
        "colab_type": "text"
      },
      "source": [
        "## Update Selling Type"
      ]
    },
    {
      "cell_type": "code",
      "metadata": {
        "id": "PWV2UFtvu-f9",
        "colab_type": "code",
        "outputId": "e069d99d-8f8d-4b08-c04f-9edeb8537132",
        "colab": {
          "base_uri": "https://localhost:8080/",
          "height": 204
        }
      },
      "source": [
        "search_type = set(category_notfound_sku.Normal)\n",
        "\n",
        "print (\"Total No. of Normal for which Selling Type not found\", search_type)\n",
        "\n",
        "for normal_sku in search_type:\n",
        "\n",
        "  print (category_notfound_sku[category_notfound_sku['Normal']==normal_sku])\n",
        "  sell_type = int(input(\"Select Selling Type for {}: 1-Import, 2-WareHouse, 3-DropShip, 4-CloseOut\".format(normal_sku)))\n",
        "#Import\n",
        "  if (sell_type==1):\n",
        "      import_file = pd.concat([import_file, category_notfound_sku[category_notfound_sku['Normal']==normal_sku]])\n",
        "#WareHouse\n",
        "  elif (sell_type==2): \n",
        "    ware_vendor_file = pd.concat([ware_vendor_file, category_notfound_sku[category_notfound_sku['Normal']==normal_sku]]) \n",
        "#DropShip\n",
        "  elif (sell_type==3):\n",
        "    dropship_file = pd.concat([dropship_file, category_notfound_sku[category_notfound_sku['Normal']==normal_sku]])\n",
        "#CloseOut\n",
        "  elif (sell_type==4):\n",
        "    closeout_file = pd.concat([closeout_file, category_notfound_sku[category_notfound_sku['Normal']==normal_sku]])"
      ],
      "execution_count": 37,
      "outputs": [
        {
          "output_type": "stream",
          "text": [
            "Total No. of Normal for which Selling Type not found {'SDT-BUF-21515', 'SVN-SG-MRBD-043'}\n",
            "   Sales Channel  Sales Order Id  ... Line Total       Sales Channel Order Id\n",
            "63       Walmart        650833.0  ...      14.45  3803743024620-2752046753342\n",
            "\n",
            "[1 rows x 9 columns]\n",
            "Select Selling Type for SDT-BUF-21515: 1-Import, 2-WareHouse, 3-DropShip, 4-CloseOut3\n",
            "    Sales Channel  Sales Order Id  ... Line Total Sales Channel Order Id\n",
            "417    Amazon FBA             NaN  ...        4.9    113-3984442-4037026\n",
            "\n",
            "[1 rows x 9 columns]\n",
            "Select Selling Type for SVN-SG-MRBD-043: 1-Import, 2-WareHouse, 3-DropShip, 4-CloseOut1\n"
          ],
          "name": "stdout"
        }
      ]
    },
    {
      "cell_type": "markdown",
      "metadata": {
        "id": "zwBrIjTk0jCe",
        "colab_type": "text"
      },
      "source": [
        "## Get previous month data"
      ]
    },
    {
      "cell_type": "code",
      "metadata": {
        "id": "14BBCD130h4R",
        "colab_type": "code",
        "colab": {}
      },
      "source": [
        "ds_total = ds_total[(ds_total['Date'] >= start_date) & (ds_total['Date'] <= end_date)]\n",
        "ds_import = ds_import[(ds_import['Date'] >= start_date) & (ds_import['Date'] <= end_date)]\n",
        "ds_warehouse = ds_warehouse[(ds_warehouse['Date'] >= start_date) & (ds_warehouse['Date'] <= end_date)]\n",
        "ds_dropship = ds_dropship[(ds_dropship['Date'] >= start_date) & (ds_dropship['Date'] <= end_date)]\n",
        "ds_closeout = ds_closeout[(ds_closeout['Date'] >= start_date) & (ds_closeout['Date'] <= end_date)]"
      ],
      "execution_count": 0,
      "outputs": []
    },
    {
      "cell_type": "code",
      "metadata": {
        "id": "qoSUfsajOdV-",
        "colab_type": "code",
        "outputId": "7d19f960-b746-4f42-9efb-bb98b6ae4194",
        "colab": {
          "base_uri": "https://localhost:8080/",
          "height": 34
        }
      },
      "source": [
        "ds_total['Line Total'].sum()"
      ],
      "execution_count": 39,
      "outputs": [
        {
          "output_type": "execute_result",
          "data": {
            "text/plain": [
              "228342.77999999997"
            ]
          },
          "metadata": {
            "tags": []
          },
          "execution_count": 39
        }
      ]
    },
    {
      "cell_type": "markdown",
      "metadata": {
        "id": "O3cp23IM0pCk",
        "colab_type": "text"
      },
      "source": [
        "## Update Closeout movement"
      ]
    },
    {
      "cell_type": "code",
      "metadata": {
        "id": "LWNd5TqZQhks",
        "colab_type": "code",
        "outputId": "80c5212b-9620-4673-ce6b-b11f3f8c89c3",
        "colab": {
          "base_uri": "https://localhost:8080/",
          "height": 136
        }
      },
      "source": [
        "take_closeout_temp = closeout_file\n",
        "take_closeout_temp['Date'] = receive_date\n",
        "cols = list(take_closeout_temp.columns)\n",
        "cols = [cols[-1]] + cols[:-1]\n",
        "take_closeout_temp = take_closeout_temp[cols]\n",
        "take_closeout_temp.columns = ds_closeout.columns\n",
        "take_closeout_temp_2 = pd.concat([ds_closeout, take_closeout_temp],ignore_index=True)\n",
        "take_closeout_temp_2['Quantity'] = take_closeout_temp_2['Quantity'].astype(float)\n",
        "take_closeout_temp_2.groupby(['Normal SKU']).sum().reset_index()['Normal SKU'].count(), take_closeout_temp_2.groupby(['Normal SKU']).sum().reset_index()\n",
        "take_closeout_temp_c, take_closeout_temp_s = take_closeout_temp_2.groupby(['Normal SKU']).sum().reset_index()['Normal SKU'].count(), take_closeout_temp_2.groupby(['Normal SKU']).sum().reset_index()['Quantity'].sum()\n",
        "take_closeout_temp_c, take_closeout_temp_s"
      ],
      "execution_count": 40,
      "outputs": [
        {
          "output_type": "stream",
          "text": [
            "/usr/local/lib/python3.6/dist-packages/ipykernel_launcher.py:2: SettingWithCopyWarning: \n",
            "A value is trying to be set on a copy of a slice from a DataFrame.\n",
            "Try using .loc[row_indexer,col_indexer] = value instead\n",
            "\n",
            "See the caveats in the documentation: http://pandas.pydata.org/pandas-docs/stable/user_guide/indexing.html#returning-a-view-versus-a-copy\n",
            "  \n"
          ],
          "name": "stderr"
        },
        {
          "output_type": "execute_result",
          "data": {
            "text/plain": [
              "(96, 149.0)"
            ]
          },
          "metadata": {
            "tags": []
          },
          "execution_count": 40
        }
      ]
    },
    {
      "cell_type": "markdown",
      "metadata": {
        "id": "ThNqKc6RVnRT",
        "colab_type": "text"
      },
      "source": [
        "## Download Daily sale File"
      ]
    },
    {
      "cell_type": "code",
      "metadata": {
        "id": "x9u4qthE0rcQ",
        "colab_type": "code",
        "colab": {}
      },
      "source": [
        "from google.colab import files\n",
        "\n",
        "writer = pd.ExcelWriter('Daily sales '+receive_date+'.xlsx', engine='xlsxwriter')\n",
        "\n",
        "total_file.to_excel(writer, sheet_name='total_sale')\n",
        "import_file.to_excel(writer, sheet_name='import_sale')\n",
        "ware_vendor_file.to_excel(writer, sheet_name='warehouse_sale')\n",
        "dropship_file.to_excel(writer, sheet_name='dropship_sale')\n",
        "closeout_file.to_excel(writer, sheet_name='closeout_file')\n",
        "\n",
        "writer.save()\n",
        "writer.close()\n",
        "\n",
        "files.download('Daily sales '+receive_date+'.xlsx')"
      ],
      "execution_count": 0,
      "outputs": []
    },
    {
      "cell_type": "markdown",
      "metadata": {
        "id": "gBAUUl7X8K2B",
        "colab_type": "text"
      },
      "source": [
        "## Create Pivot Channel, vendor, SKU wise for Total, Import, Warehouse, Dropship and CloseOut"
      ]
    },
    {
      "cell_type": "code",
      "metadata": {
        "id": "txfO_sbkI1bB",
        "colab_type": "code",
        "colab": {}
      },
      "source": [
        "ds_warehouse['Vendor'] = ds_warehouse['Vendor'].astype(str)\n",
        "ds_warehouse['Vendor'] = ds_warehouse['Vendor'].str.strip()\n",
        "ds_dropship['Vendor'] = ds_dropship['Vendor'].astype(str)\n",
        "ds_dropship['Vendor'] = ds_dropship['Vendor'].str.strip()\n",
        "\n",
        "ds_total['Line Total'] = ds_total['Line Total'].astype(float)\n",
        "ds_import['Line Total'] = ds_import['Line Total'].astype(float)\n",
        "ds_warehouse['Line Total'] = ds_warehouse['Line Total'].astype(float)\n",
        "ds_dropship['Line Total'] = ds_dropship['Line Total'].astype(float)\n",
        "ds_closeout['Line Total'] = ds_closeout['Line Total'].astype(float)"
      ],
      "execution_count": 0,
      "outputs": []
    },
    {
      "cell_type": "code",
      "metadata": {
        "id": "-ntexVu6zuzZ",
        "colab_type": "code",
        "colab": {}
      },
      "source": [
        "#total\n",
        "channel_total = ds_total.groupby([ds_total['Sales Channel'].rename('Channel')]).agg({'Line Total': 'sum'}).rename(columns={'Line Total':'Month total'}).reset_index().reset_index()\n",
        "vendor_total = ds_total.groupby([ds_total['Vendor'].rename('Vendor')]).agg({'Line Total': 'sum'}).rename(columns={'Line Total':'Month total'}).reset_index()\n",
        "channel_total_today = total.groupby([total['Sales Channel'].rename('Channel')]).agg({'Normal':'count', 'Quantity':'sum','Line Total': 'sum'}).rename(columns={'Normal SKU':'Total_Orders'}).reset_index()\n",
        "vendor_total_today = total.groupby([total['Vendor'].rename('Vendor')]).agg({'Normal':'count', 'Quantity':'sum','Line Total': 'sum'}).rename(columns={'Normal SKU':'Total_Orders'}).reset_index()\n",
        "sku_total_today = total.groupby([total['Normal'].rename('SKU')]).agg({'Normal':'count', 'Quantity':'sum','Line Total': 'sum'}).rename(columns={'Normal':'Total_Orders'}).reset_index()\n",
        "sku_total_today = sku_total_today[['SKU', 'Quantity', 'Line Total']].sort_values(['Line Total'], ascending=False).fillna(0).round(2)\n",
        "\n",
        "#import\n",
        "channel_import = ds_import.groupby([ds_import['Sales Channel'].rename('Channel')]).agg({'Line Total': 'sum'}).rename(columns={'Line Total':'Month total'}).reset_index()\n",
        "vendor_import = ds_import.groupby([ds_import['Vendor'].rename('Vendor')]).agg({'Line Total': 'sum'}).rename(columns={'Line Total':'Month total'}).reset_index()\n",
        "channel_import_today = import_file.groupby([import_file['Sales Channel'].rename('Channel')]).agg({'Normal':'count', 'Quantity':'sum','Line Total': 'sum'}).rename(columns={'Normal SKU':'Total_Orders'}).reset_index()\n",
        "vendor_import_today = import_file.groupby([import_file['Vendor'].rename('Vendor')]).agg({'Normal':'count', 'Quantity':'sum','Line Total': 'sum'}).rename(columns={'Normal SKU':'Total_Orders'}).reset_index()\n",
        "sku_import_today = import_file.groupby([import_file['Normal'].rename('SKU') , import_file['Vendor'].rename('Vendor')]).agg({'Normal':'count', 'Quantity':'sum','Line Total': 'sum'}).rename(columns={'Normal':'Total_Orders'}).reset_index()\n",
        "sku_import_today = sku_import_today[['SKU', 'Quantity', 'Line Total', 'Vendor']].sort_values(['Line Total'], ascending=False).fillna(0).round(2)\n",
        "\n",
        "#warehouse\n",
        "channel_warehouse = ds_warehouse.groupby([ds_warehouse['Sales Channel'].rename('Channel')]).agg({'Line Total': 'sum'}).rename(columns={'Line Total':'Month total'}).reset_index()\n",
        "vendor_warehouse = ds_warehouse.groupby([ds_warehouse['Vendor'].rename('Vendor')]).agg({'Line Total': 'sum'}).rename(columns={'Line Total':'Month total'}).reset_index()\n",
        "channel_warehouse_today = ware_vendor_file.groupby([ware_vendor_file['Sales Channel'].rename('Channel')]).agg({'Normal':'count', 'Quantity':'sum','Line Total': 'sum'}).rename(columns={'Normal SKU':'Total_Orders'}).reset_index()\n",
        "vendor_warehouse_today = ware_vendor_file.groupby([ware_vendor_file['Vendor'].rename('Vendor')]).agg({'Normal':'count', 'Quantity':'sum','Line Total': 'sum'}).rename(columns={'Normal SKU':'Total_Orders'}).reset_index()\n",
        "sku_warehouse_today = ware_vendor_file.groupby([ware_vendor_file['Normal'].rename('SKU')]).agg({'Normal':'count', 'Quantity':'sum','Line Total': 'sum'}).rename(columns={'Normal':'Total_Orders'}).reset_index()\n",
        "sku_warehouse_today = sku_warehouse_today[['SKU', 'Quantity', 'Line Total']].sort_values(['Line Total'], ascending=False).fillna(0).round(2)\n",
        "\n",
        "#dropship\n",
        "channel_dropship = ds_dropship.groupby([ds_dropship['Sales Channel'].rename('Channel')]).agg({'Line Total': 'sum'}).rename(columns={'Line Total':'Month total'}).reset_index()\n",
        "vendor_dropship = ds_dropship.groupby([ds_dropship['Vendor'].rename('Vendor')]).agg({'Line Total': 'sum'}).rename(columns={'Line Total':'Month total'}).reset_index()\n",
        "channel_dropship_today = dropship_file.groupby([dropship_file['Sales Channel'].rename('Channel')]).agg({'Normal':'count', 'Quantity':'sum','Line Total': 'sum'}).rename(columns={'Normal SKU':'Total_Orders'}).reset_index()\n",
        "vendor_dropship_today = dropship_file.groupby([dropship_file['Vendor'].rename('Vendor')]).agg({'Normal':'count', 'Quantity':'sum','Line Total': 'sum'}).rename(columns={'Normal SKU':'Total_Orders'}).reset_index()\n",
        "sku_dropship_today = dropship_file.groupby([dropship_file['Normal'].rename('SKU')]).agg({'Normal':'count', 'Quantity':'sum','Line Total': 'sum'}).rename(columns={'Normal':'Total_Orders'}).reset_index()\n",
        "sku_dropship_today = sku_dropship_today[['SKU', 'Quantity', 'Line Total']].sort_values(['Line Total'], ascending=False).fillna(0).round(2)\n",
        "\n",
        "#CloseOut\n",
        "channel_closeout = ds_closeout.groupby([ds_closeout['Sales Channel'].rename('Channel')]).agg({'Line Total': 'sum'}).rename(columns={'Line Total':'Month total'}).reset_index()\n",
        "vendor_closeout = ds_closeout.groupby([ds_closeout['Vendor'].rename('Vendor')]).agg({'Line Total': 'sum'}).rename(columns={'Line Total':'Month total'}).reset_index()\n",
        "channel_closeout_today = closeout_file.groupby([closeout_file['Sales Channel'].rename('Channel')]).agg({'Normal':'count', 'Quantity':'sum','Line Total': 'sum'}).rename(columns={'Normal SKU':'Total_Orders'}).reset_index()\n",
        "vendor_closeout_today = closeout_file.groupby([closeout_file['Vendor'].rename('Vendor')]).agg({'Normal':'count', 'Quantity':'sum','Line Total': 'sum'}).rename(columns={'Normal SKU':'Total_Orders'}).reset_index()\n",
        "sku_closeout_today = closeout_file.groupby([closeout_file['Normal'].rename('SKU')]).agg({'Normal':'count', 'Quantity':'sum','Line Total': 'sum'}).rename(columns={'Normal':'Total_Orders'}).reset_index()\n",
        "sku_closeout_today = sku_closeout_today[['SKU', 'Quantity', 'Line Total']].sort_values(['Line Total'], ascending=False).fillna(0).round(2)"
      ],
      "execution_count": 0,
      "outputs": []
    },
    {
      "cell_type": "code",
      "metadata": {
        "id": "cGWd-aSX4_hU",
        "colab_type": "code",
        "colab": {}
      },
      "source": [
        "# channel_total_p = channel_total.merge(channel_total_today, on='Channel', how='left').fillna(0).round(2)\n",
        "#total\n",
        "channel_total_p = channel_total.merge(channel_total_today, on='Channel', how='outer').fillna(0).round(2)\n",
        "channel_total_p['Month total'] = channel_total_p['Month total']+channel_total_p['Line Total']\n",
        "channel_total_p = channel_total_p[['Channel', 'Normal', 'Quantity', 'Line Total', 'Month total']].fillna(0).round(2)\n",
        "vendor_total_p = vendor_total.merge(vendor_total_today, on='Vendor', how='outer').fillna(0).round(2).sort_values(['Line Total'], ascending=False)\n",
        "vendor_total_p['Month total'] = vendor_total_p['Month total']+vendor_total_p['Line Total']\n",
        "vendor_total_p = vendor_total_p[['Vendor', 'Quantity', 'Line Total', 'Month total']].fillna(0).round(2)\n",
        "\n",
        "#import\n",
        "channel_import_p = channel_import.merge(channel_import_today, on='Channel', how='outer').fillna(0).round(2)\n",
        "channel_import_p['Month total'] = channel_import_p['Month total']+channel_import_p['Line Total']\n",
        "channel_import_p = channel_import_p[['Channel', 'Normal', 'Quantity', 'Line Total', 'Month total']].fillna(0).round(2)\n",
        "vendor_import_p = vendor_import.merge(vendor_import_today, on='Vendor', how='outer').fillna(0).round(2).sort_values(['Line Total'], ascending=False)\n",
        "vendor_import_p['Month total'] = vendor_import_p['Month total']+vendor_import_p['Line Total']\n",
        "vendor_import_p = vendor_import_p[['Vendor', 'Quantity', 'Line Total', 'Month total']].fillna(0).round(2)\n",
        "\n",
        "#warehouse\n",
        "channel_ware_p = channel_warehouse.merge(channel_warehouse_today, on='Channel', how='outer').fillna(0).round(2)\n",
        "channel_ware_p['Month total'] = channel_ware_p['Month total']+channel_ware_p['Line Total']\n",
        "channel_ware_p = channel_ware_p[['Channel', 'Normal', 'Quantity', 'Line Total', 'Month total']].fillna(0).round(2)\n",
        "vendor_ware_p = vendor_warehouse.merge(vendor_warehouse_today, on='Vendor', how='outer').fillna(0).round(2).sort_values(['Line Total'], ascending=False)\n",
        "vendor_ware_p['Month total'] = vendor_ware_p['Month total']+vendor_ware_p['Line Total']\n",
        "vendor_ware_p = vendor_ware_p[['Vendor', 'Quantity', 'Line Total', 'Month total']].fillna(0).round(2)\n",
        "\n",
        "#dropship\n",
        "channel_drop_p = channel_dropship.merge(channel_dropship_today, on='Channel', how='outer').fillna(0).round(2)\n",
        "channel_drop_p['Month total'] = channel_drop_p['Month total']+channel_drop_p['Line Total']\n",
        "channel_drop_p = channel_drop_p[['Channel', 'Normal', 'Quantity', 'Line Total', 'Month total']].fillna(0).round(2)\n",
        "vendor_drop_p = vendor_dropship.merge(vendor_dropship_today, on='Vendor', how='outer').fillna(0).round(2).sort_values(['Line Total'], ascending=False)\n",
        "vendor_drop_p['Month total'] = vendor_drop_p['Month total']+vendor_drop_p['Line Total']\n",
        "vendor_drop_p = vendor_drop_p[['Vendor', 'Quantity', 'Line Total', 'Month total']].fillna(0).round(2)\n",
        "\n",
        "#CloseOut\n",
        "channel_close_p = channel_closeout.merge(channel_closeout_today, on='Channel', how='outer').fillna(0).round(2)\n",
        "channel_close_p['Month total'] = channel_close_p['Month total']+channel_close_p['Line Total']\n",
        "channel_close_p = channel_close_p[['Channel', 'Normal', 'Quantity', 'Line Total', 'Month total']].fillna(0).round(2)\n",
        "vendor_close_p = vendor_closeout.merge(vendor_closeout_today, on='Vendor', how='outer').fillna(0).round(2).sort_values(['Line Total'], ascending=False)\n",
        "vendor_close_p['Month total'] = vendor_close_p['Month total']+vendor_close_p['Line Total']\n",
        "vendor_close_p = vendor_close_p[['Vendor', 'Quantity', 'Line Total', 'Month total']].fillna(0).round(2)"
      ],
      "execution_count": 0,
      "outputs": []
    },
    {
      "cell_type": "markdown",
      "metadata": {
        "id": "MFAaEqTh2OT3",
        "colab_type": "text"
      },
      "source": [
        "## \"temperory\" Adding nov closeout sale to current month"
      ]
    },
    {
      "cell_type": "code",
      "metadata": {
        "id": "4cm_S1k32Wi2",
        "colab_type": "code",
        "colab": {}
      },
      "source": [
        "lm_closeout_sale = pd.read_excel('last_month_sale.xlsx',4)\n",
        "nov_closeout_sale = pd.read_excel('nov_sale.xlsx',4)\n",
        "\n",
        "lm_closeout_sale.columns = ds_closeout.columns\n",
        "nov_closeout_sale.columns = ds_closeout.columns\n",
        "nov_closeout_sale[\"Date\"] = pd.to_datetime(nov_closeout_sale[\"Date\"])\n",
        "\n",
        "lm_closeout_sale_temp1 = pd.concat([nov_closeout_sale, lm_closeout_sale, ds_closeout], ignore_index=True)[['Sales Channel', 'Vendor', 'Line Total']]\n",
        "lm_closeout_sale_temp1 = lm_closeout_sale_temp1.rename(columns = {\"Sales Channel\": \"Channel\", \"Line Total\":\"sales_lm_tod\"})\n",
        "# lm_closeout_sale_temp1\n",
        "# lm_closeout_sale_temp1.groupby('Channel').sum().reset_index()\n",
        "channel_close_p = pd.merge(channel_close_p, (lm_closeout_sale_temp1.groupby('Channel').sum().reset_index()), on='Channel', how='outer').fillna(0).round(2).sort_values(['Line Total', 'Month total', 'sales_lm_tod'], ascending=False)\n",
        "vendor_close_p = pd.merge(vendor_close_p, lm_closeout_sale_temp1.groupby('Vendor').sum().reset_index(), on='Vendor', how='outer').fillna(0).round(2).sort_values(['Line Total', 'Month total', 'sales_lm_tod'], ascending=False)\n",
        "\n",
        "channel_close_p['sales_lm_tod'] = channel_close_p['sales_lm_tod'] + channel_close_p['Line Total']\n",
        "vendor_close_p['sales_lm_tod'] = vendor_close_p['sales_lm_tod'] + vendor_close_p['Line Total']"
      ],
      "execution_count": 0,
      "outputs": []
    },
    {
      "cell_type": "markdown",
      "metadata": {
        "id": "cQK28tucXctX",
        "colab_type": "text"
      },
      "source": [
        "##Average Sale Growth w.r.t. last month"
      ]
    },
    {
      "cell_type": "code",
      "metadata": {
        "id": "bQcrOlZtXcAC",
        "colab_type": "code",
        "outputId": "94d3c49c-d9b3-4434-a07a-d99827ab8039",
        "colab": {
          "base_uri": "https://localhost:8080/",
          "height": 731
        }
      },
      "source": [
        "lm_sale = pd.read_excel('last_month_sale.xlsx')\n",
        "lmavg_channel = lm_sale.groupby('Sales Channel').sum().reset_index()[['Sales Channel', 'Line Total']]\n",
        "lmavg_channel = lmavg_channel.rename(columns={'Sales Channel':'Channel'})\n",
        "avg_fact = int(receive_date.split('-')[-1])\n",
        "\n",
        "lmavg_channel['lm_avg'] = (lmavg_channel['Line Total']/30).round(2)\n",
        "lm_total_avg = lmavg_channel['Line Total'].sum()/30\n",
        "channel_total_p['avg_sale'] = (channel_total_p['Month total']/avg_fact).round(2)\n",
        "channel_total_pn = channel_total_p.merge(lmavg_channel[['Channel', 'lm_avg']], on='Channel', how='left')\n",
        "channel_total_pn['avg_growth'] = ((channel_total_pn['avg_sale']-channel_total_pn['lm_avg'])/channel_total_pn['lm_avg']).round(5)\n",
        "channel_total_pn"
      ],
      "execution_count": 47,
      "outputs": [
        {
          "output_type": "execute_result",
          "data": {
            "text/html": [
              "<div>\n",
              "<style scoped>\n",
              "    .dataframe tbody tr th:only-of-type {\n",
              "        vertical-align: middle;\n",
              "    }\n",
              "\n",
              "    .dataframe tbody tr th {\n",
              "        vertical-align: top;\n",
              "    }\n",
              "\n",
              "    .dataframe thead th {\n",
              "        text-align: right;\n",
              "    }\n",
              "</style>\n",
              "<table border=\"1\" class=\"dataframe\">\n",
              "  <thead>\n",
              "    <tr style=\"text-align: right;\">\n",
              "      <th></th>\n",
              "      <th>Channel</th>\n",
              "      <th>Normal</th>\n",
              "      <th>Quantity</th>\n",
              "      <th>Line Total</th>\n",
              "      <th>Month total</th>\n",
              "      <th>avg_sale</th>\n",
              "      <th>lm_avg</th>\n",
              "      <th>avg_growth</th>\n",
              "    </tr>\n",
              "  </thead>\n",
              "  <tbody>\n",
              "    <tr>\n",
              "      <th>0</th>\n",
              "      <td>Amazon FBA</td>\n",
              "      <td>6.0</td>\n",
              "      <td>6.0</td>\n",
              "      <td>93.27</td>\n",
              "      <td>426.58</td>\n",
              "      <td>85.32</td>\n",
              "      <td>109.78</td>\n",
              "      <td>-0.22281</td>\n",
              "    </tr>\n",
              "    <tr>\n",
              "      <th>1</th>\n",
              "      <td>Amazon FBM</td>\n",
              "      <td>52.0</td>\n",
              "      <td>63.0</td>\n",
              "      <td>5874.05</td>\n",
              "      <td>29156.98</td>\n",
              "      <td>5831.40</td>\n",
              "      <td>4743.76</td>\n",
              "      <td>0.22928</td>\n",
              "    </tr>\n",
              "    <tr>\n",
              "      <th>2</th>\n",
              "      <td>Amazon Vendor CA</td>\n",
              "      <td>0.0</td>\n",
              "      <td>0.0</td>\n",
              "      <td>0.00</td>\n",
              "      <td>2516.01</td>\n",
              "      <td>503.20</td>\n",
              "      <td>726.64</td>\n",
              "      <td>-0.30750</td>\n",
              "    </tr>\n",
              "    <tr>\n",
              "      <th>3</th>\n",
              "      <td>Amazon Vendor DS</td>\n",
              "      <td>19.0</td>\n",
              "      <td>20.0</td>\n",
              "      <td>2019.62</td>\n",
              "      <td>5922.03</td>\n",
              "      <td>1184.41</td>\n",
              "      <td>776.24</td>\n",
              "      <td>0.52583</td>\n",
              "    </tr>\n",
              "    <tr>\n",
              "      <th>4</th>\n",
              "      <td>Amazon Vendor US</td>\n",
              "      <td>0.0</td>\n",
              "      <td>0.0</td>\n",
              "      <td>0.00</td>\n",
              "      <td>54683.25</td>\n",
              "      <td>10936.65</td>\n",
              "      <td>5949.35</td>\n",
              "      <td>0.83829</td>\n",
              "    </tr>\n",
              "    <tr>\n",
              "      <th>5</th>\n",
              "      <td>BENZARA WHOLESALE</td>\n",
              "      <td>0.0</td>\n",
              "      <td>0.0</td>\n",
              "      <td>0.00</td>\n",
              "      <td>133.50</td>\n",
              "      <td>26.70</td>\n",
              "      <td>174.66</td>\n",
              "      <td>-0.84713</td>\n",
              "    </tr>\n",
              "    <tr>\n",
              "      <th>6</th>\n",
              "      <td>Casagear</td>\n",
              "      <td>0.0</td>\n",
              "      <td>0.0</td>\n",
              "      <td>0.00</td>\n",
              "      <td>1672.26</td>\n",
              "      <td>334.45</td>\n",
              "      <td>562.13</td>\n",
              "      <td>-0.40503</td>\n",
              "    </tr>\n",
              "    <tr>\n",
              "      <th>7</th>\n",
              "      <td>Doba</td>\n",
              "      <td>0.0</td>\n",
              "      <td>0.0</td>\n",
              "      <td>0.00</td>\n",
              "      <td>87.72</td>\n",
              "      <td>17.54</td>\n",
              "      <td>61.49</td>\n",
              "      <td>-0.71475</td>\n",
              "    </tr>\n",
              "    <tr>\n",
              "      <th>8</th>\n",
              "      <td>Hayneedle</td>\n",
              "      <td>8.0</td>\n",
              "      <td>11.0</td>\n",
              "      <td>2455.06</td>\n",
              "      <td>5599.76</td>\n",
              "      <td>1119.95</td>\n",
              "      <td>813.08</td>\n",
              "      <td>0.37742</td>\n",
              "    </tr>\n",
              "    <tr>\n",
              "      <th>9</th>\n",
              "      <td>Home Depot.com</td>\n",
              "      <td>21.0</td>\n",
              "      <td>28.0</td>\n",
              "      <td>2800.41</td>\n",
              "      <td>6418.54</td>\n",
              "      <td>1283.71</td>\n",
              "      <td>911.12</td>\n",
              "      <td>0.40894</td>\n",
              "    </tr>\n",
              "    <tr>\n",
              "      <th>10</th>\n",
              "      <td>Lowes</td>\n",
              "      <td>4.0</td>\n",
              "      <td>4.0</td>\n",
              "      <td>333.43</td>\n",
              "      <td>815.94</td>\n",
              "      <td>163.19</td>\n",
              "      <td>368.91</td>\n",
              "      <td>-0.55764</td>\n",
              "    </tr>\n",
              "    <tr>\n",
              "      <th>11</th>\n",
              "      <td>Macys</td>\n",
              "      <td>3.0</td>\n",
              "      <td>5.0</td>\n",
              "      <td>1797.01</td>\n",
              "      <td>4841.84</td>\n",
              "      <td>968.37</td>\n",
              "      <td>665.36</td>\n",
              "      <td>0.45541</td>\n",
              "    </tr>\n",
              "    <tr>\n",
              "      <th>12</th>\n",
              "      <td>OJ Commerce</td>\n",
              "      <td>5.0</td>\n",
              "      <td>6.0</td>\n",
              "      <td>1011.23</td>\n",
              "      <td>4728.83</td>\n",
              "      <td>945.77</td>\n",
              "      <td>1730.41</td>\n",
              "      <td>-0.45344</td>\n",
              "    </tr>\n",
              "    <tr>\n",
              "      <th>13</th>\n",
              "      <td>Ocean Tailer</td>\n",
              "      <td>3.0</td>\n",
              "      <td>3.0</td>\n",
              "      <td>883.32</td>\n",
              "      <td>2626.68</td>\n",
              "      <td>525.34</td>\n",
              "      <td>335.31</td>\n",
              "      <td>0.56673</td>\n",
              "    </tr>\n",
              "    <tr>\n",
              "      <th>14</th>\n",
              "      <td>Open Sky</td>\n",
              "      <td>19.0</td>\n",
              "      <td>22.0</td>\n",
              "      <td>1924.56</td>\n",
              "      <td>8280.03</td>\n",
              "      <td>1656.01</td>\n",
              "      <td>2753.44</td>\n",
              "      <td>-0.39857</td>\n",
              "    </tr>\n",
              "    <tr>\n",
              "      <th>15</th>\n",
              "      <td>Overstock</td>\n",
              "      <td>32.0</td>\n",
              "      <td>42.0</td>\n",
              "      <td>6367.11</td>\n",
              "      <td>21783.33</td>\n",
              "      <td>4356.67</td>\n",
              "      <td>3738.62</td>\n",
              "      <td>0.16532</td>\n",
              "    </tr>\n",
              "    <tr>\n",
              "      <th>16</th>\n",
              "      <td>Target.com</td>\n",
              "      <td>8.0</td>\n",
              "      <td>8.0</td>\n",
              "      <td>1265.31</td>\n",
              "      <td>3048.03</td>\n",
              "      <td>609.61</td>\n",
              "      <td>3446.32</td>\n",
              "      <td>-0.82311</td>\n",
              "    </tr>\n",
              "    <tr>\n",
              "      <th>17</th>\n",
              "      <td>Uber Bazaar</td>\n",
              "      <td>4.0</td>\n",
              "      <td>4.0</td>\n",
              "      <td>304.24</td>\n",
              "      <td>2242.57</td>\n",
              "      <td>448.51</td>\n",
              "      <td>1030.84</td>\n",
              "      <td>-0.56491</td>\n",
              "    </tr>\n",
              "    <tr>\n",
              "      <th>18</th>\n",
              "      <td>Unbeatable</td>\n",
              "      <td>0.0</td>\n",
              "      <td>0.0</td>\n",
              "      <td>0.00</td>\n",
              "      <td>281.29</td>\n",
              "      <td>56.26</td>\n",
              "      <td>270.97</td>\n",
              "      <td>-0.79238</td>\n",
              "    </tr>\n",
              "    <tr>\n",
              "      <th>19</th>\n",
              "      <td>Vir Ventures Inc</td>\n",
              "      <td>0.0</td>\n",
              "      <td>0.0</td>\n",
              "      <td>0.00</td>\n",
              "      <td>2002.23</td>\n",
              "      <td>400.45</td>\n",
              "      <td>1022.63</td>\n",
              "      <td>-0.60841</td>\n",
              "    </tr>\n",
              "    <tr>\n",
              "      <th>20</th>\n",
              "      <td>Walmart</td>\n",
              "      <td>10.0</td>\n",
              "      <td>11.0</td>\n",
              "      <td>408.48</td>\n",
              "      <td>1740.54</td>\n",
              "      <td>348.11</td>\n",
              "      <td>227.23</td>\n",
              "      <td>0.53197</td>\n",
              "    </tr>\n",
              "    <tr>\n",
              "      <th>21</th>\n",
              "      <td>Wayfair</td>\n",
              "      <td>227.0</td>\n",
              "      <td>279.0</td>\n",
              "      <td>34033.28</td>\n",
              "      <td>130905.22</td>\n",
              "      <td>26181.04</td>\n",
              "      <td>24399.11</td>\n",
              "      <td>0.07303</td>\n",
              "    </tr>\n",
              "  </tbody>\n",
              "</table>\n",
              "</div>"
            ],
            "text/plain": [
              "              Channel  Normal  Quantity  ...  avg_sale    lm_avg  avg_growth\n",
              "0          Amazon FBA     6.0       6.0  ...     85.32    109.78    -0.22281\n",
              "1          Amazon FBM    52.0      63.0  ...   5831.40   4743.76     0.22928\n",
              "2    Amazon Vendor CA     0.0       0.0  ...    503.20    726.64    -0.30750\n",
              "3    Amazon Vendor DS    19.0      20.0  ...   1184.41    776.24     0.52583\n",
              "4    Amazon Vendor US     0.0       0.0  ...  10936.65   5949.35     0.83829\n",
              "5   BENZARA WHOLESALE     0.0       0.0  ...     26.70    174.66    -0.84713\n",
              "6            Casagear     0.0       0.0  ...    334.45    562.13    -0.40503\n",
              "7                Doba     0.0       0.0  ...     17.54     61.49    -0.71475\n",
              "8           Hayneedle     8.0      11.0  ...   1119.95    813.08     0.37742\n",
              "9      Home Depot.com    21.0      28.0  ...   1283.71    911.12     0.40894\n",
              "10              Lowes     4.0       4.0  ...    163.19    368.91    -0.55764\n",
              "11              Macys     3.0       5.0  ...    968.37    665.36     0.45541\n",
              "12        OJ Commerce     5.0       6.0  ...    945.77   1730.41    -0.45344\n",
              "13       Ocean Tailer     3.0       3.0  ...    525.34    335.31     0.56673\n",
              "14           Open Sky    19.0      22.0  ...   1656.01   2753.44    -0.39857\n",
              "15          Overstock    32.0      42.0  ...   4356.67   3738.62     0.16532\n",
              "16         Target.com     8.0       8.0  ...    609.61   3446.32    -0.82311\n",
              "17        Uber Bazaar     4.0       4.0  ...    448.51   1030.84    -0.56491\n",
              "18         Unbeatable     0.0       0.0  ...     56.26    270.97    -0.79238\n",
              "19   Vir Ventures Inc     0.0       0.0  ...    400.45   1022.63    -0.60841\n",
              "20            Walmart    10.0      11.0  ...    348.11    227.23     0.53197\n",
              "21            Wayfair   227.0     279.0  ...  26181.04  24399.11     0.07303\n",
              "\n",
              "[22 rows x 8 columns]"
            ]
          },
          "metadata": {
            "tags": []
          },
          "execution_count": 47
        }
      ]
    },
    {
      "cell_type": "code",
      "metadata": {
        "id": "zeGXrIR1chQa",
        "colab_type": "code",
        "outputId": "0d3062bc-4397-4b6b-d396-e53d6550dfd0",
        "colab": {
          "base_uri": "https://localhost:8080/",
          "height": 932
        }
      },
      "source": [
        "total_Sale_amount = channel_total_pn['Line Total'].sum()\n",
        "channel_total_pn['contribution'] = ((channel_total_pn['Line Total']/total_Sale_amount)*100).round(2)\n",
        "\n",
        "rowtotal = channel_total_pn.sum()\n",
        "rowtotal.Channel = 'Total Sales'\n",
        "channel_total_pn = channel_total_pn.append(rowtotal, ignore_index=True).sort_values(by='Line Total', ascending=False)\n",
        "channel_total_pn['lm_avg'][channel_total_pn['Channel']=='Total Sales'] = lm_total_avg\n",
        "channel_total_pn['avg_growth'][channel_total_pn['Channel']=='Total Sales'] = ((channel_total_pn['avg_sale']-lm_total_avg)/lm_total_avg).round(5)\n",
        "\n",
        "channel_total_p = channel_total_pn[['Channel', 'Normal', 'Quantity', 'Line Total', 'Month total', 'avg_sale', 'lm_avg', 'avg_growth']]\n",
        "channel_total_p"
      ],
      "execution_count": 48,
      "outputs": [
        {
          "output_type": "stream",
          "text": [
            "/usr/local/lib/python3.6/dist-packages/ipykernel_launcher.py:7: SettingWithCopyWarning: \n",
            "A value is trying to be set on a copy of a slice from a DataFrame\n",
            "\n",
            "See the caveats in the documentation: http://pandas.pydata.org/pandas-docs/stable/user_guide/indexing.html#returning-a-view-versus-a-copy\n",
            "  import sys\n",
            "/usr/local/lib/python3.6/dist-packages/ipykernel_launcher.py:8: SettingWithCopyWarning: \n",
            "A value is trying to be set on a copy of a slice from a DataFrame\n",
            "\n",
            "See the caveats in the documentation: http://pandas.pydata.org/pandas-docs/stable/user_guide/indexing.html#returning-a-view-versus-a-copy\n",
            "  \n"
          ],
          "name": "stderr"
        },
        {
          "output_type": "execute_result",
          "data": {
            "text/html": [
              "<div>\n",
              "<style scoped>\n",
              "    .dataframe tbody tr th:only-of-type {\n",
              "        vertical-align: middle;\n",
              "    }\n",
              "\n",
              "    .dataframe tbody tr th {\n",
              "        vertical-align: top;\n",
              "    }\n",
              "\n",
              "    .dataframe thead th {\n",
              "        text-align: right;\n",
              "    }\n",
              "</style>\n",
              "<table border=\"1\" class=\"dataframe\">\n",
              "  <thead>\n",
              "    <tr style=\"text-align: right;\">\n",
              "      <th></th>\n",
              "      <th>Channel</th>\n",
              "      <th>Normal</th>\n",
              "      <th>Quantity</th>\n",
              "      <th>Line Total</th>\n",
              "      <th>Month total</th>\n",
              "      <th>avg_sale</th>\n",
              "      <th>lm_avg</th>\n",
              "      <th>avg_growth</th>\n",
              "    </tr>\n",
              "  </thead>\n",
              "  <tbody>\n",
              "    <tr>\n",
              "      <th>22</th>\n",
              "      <td>Total Sales</td>\n",
              "      <td>421.0</td>\n",
              "      <td>512.0</td>\n",
              "      <td>61570.38</td>\n",
              "      <td>289913.16</td>\n",
              "      <td>57982.66</td>\n",
              "      <td>54908.908667</td>\n",
              "      <td>0.05598</td>\n",
              "    </tr>\n",
              "    <tr>\n",
              "      <th>21</th>\n",
              "      <td>Wayfair</td>\n",
              "      <td>227.0</td>\n",
              "      <td>279.0</td>\n",
              "      <td>34033.28</td>\n",
              "      <td>130905.22</td>\n",
              "      <td>26181.04</td>\n",
              "      <td>24399.110000</td>\n",
              "      <td>0.07303</td>\n",
              "    </tr>\n",
              "    <tr>\n",
              "      <th>15</th>\n",
              "      <td>Overstock</td>\n",
              "      <td>32.0</td>\n",
              "      <td>42.0</td>\n",
              "      <td>6367.11</td>\n",
              "      <td>21783.33</td>\n",
              "      <td>4356.67</td>\n",
              "      <td>3738.620000</td>\n",
              "      <td>0.16532</td>\n",
              "    </tr>\n",
              "    <tr>\n",
              "      <th>1</th>\n",
              "      <td>Amazon FBM</td>\n",
              "      <td>52.0</td>\n",
              "      <td>63.0</td>\n",
              "      <td>5874.05</td>\n",
              "      <td>29156.98</td>\n",
              "      <td>5831.40</td>\n",
              "      <td>4743.760000</td>\n",
              "      <td>0.22928</td>\n",
              "    </tr>\n",
              "    <tr>\n",
              "      <th>9</th>\n",
              "      <td>Home Depot.com</td>\n",
              "      <td>21.0</td>\n",
              "      <td>28.0</td>\n",
              "      <td>2800.41</td>\n",
              "      <td>6418.54</td>\n",
              "      <td>1283.71</td>\n",
              "      <td>911.120000</td>\n",
              "      <td>0.40894</td>\n",
              "    </tr>\n",
              "    <tr>\n",
              "      <th>8</th>\n",
              "      <td>Hayneedle</td>\n",
              "      <td>8.0</td>\n",
              "      <td>11.0</td>\n",
              "      <td>2455.06</td>\n",
              "      <td>5599.76</td>\n",
              "      <td>1119.95</td>\n",
              "      <td>813.080000</td>\n",
              "      <td>0.37742</td>\n",
              "    </tr>\n",
              "    <tr>\n",
              "      <th>3</th>\n",
              "      <td>Amazon Vendor DS</td>\n",
              "      <td>19.0</td>\n",
              "      <td>20.0</td>\n",
              "      <td>2019.62</td>\n",
              "      <td>5922.03</td>\n",
              "      <td>1184.41</td>\n",
              "      <td>776.240000</td>\n",
              "      <td>0.52583</td>\n",
              "    </tr>\n",
              "    <tr>\n",
              "      <th>14</th>\n",
              "      <td>Open Sky</td>\n",
              "      <td>19.0</td>\n",
              "      <td>22.0</td>\n",
              "      <td>1924.56</td>\n",
              "      <td>8280.03</td>\n",
              "      <td>1656.01</td>\n",
              "      <td>2753.440000</td>\n",
              "      <td>-0.39857</td>\n",
              "    </tr>\n",
              "    <tr>\n",
              "      <th>11</th>\n",
              "      <td>Macys</td>\n",
              "      <td>3.0</td>\n",
              "      <td>5.0</td>\n",
              "      <td>1797.01</td>\n",
              "      <td>4841.84</td>\n",
              "      <td>968.37</td>\n",
              "      <td>665.360000</td>\n",
              "      <td>0.45541</td>\n",
              "    </tr>\n",
              "    <tr>\n",
              "      <th>16</th>\n",
              "      <td>Target.com</td>\n",
              "      <td>8.0</td>\n",
              "      <td>8.0</td>\n",
              "      <td>1265.31</td>\n",
              "      <td>3048.03</td>\n",
              "      <td>609.61</td>\n",
              "      <td>3446.320000</td>\n",
              "      <td>-0.82311</td>\n",
              "    </tr>\n",
              "    <tr>\n",
              "      <th>12</th>\n",
              "      <td>OJ Commerce</td>\n",
              "      <td>5.0</td>\n",
              "      <td>6.0</td>\n",
              "      <td>1011.23</td>\n",
              "      <td>4728.83</td>\n",
              "      <td>945.77</td>\n",
              "      <td>1730.410000</td>\n",
              "      <td>-0.45344</td>\n",
              "    </tr>\n",
              "    <tr>\n",
              "      <th>13</th>\n",
              "      <td>Ocean Tailer</td>\n",
              "      <td>3.0</td>\n",
              "      <td>3.0</td>\n",
              "      <td>883.32</td>\n",
              "      <td>2626.68</td>\n",
              "      <td>525.34</td>\n",
              "      <td>335.310000</td>\n",
              "      <td>0.56673</td>\n",
              "    </tr>\n",
              "    <tr>\n",
              "      <th>20</th>\n",
              "      <td>Walmart</td>\n",
              "      <td>10.0</td>\n",
              "      <td>11.0</td>\n",
              "      <td>408.48</td>\n",
              "      <td>1740.54</td>\n",
              "      <td>348.11</td>\n",
              "      <td>227.230000</td>\n",
              "      <td>0.53197</td>\n",
              "    </tr>\n",
              "    <tr>\n",
              "      <th>10</th>\n",
              "      <td>Lowes</td>\n",
              "      <td>4.0</td>\n",
              "      <td>4.0</td>\n",
              "      <td>333.43</td>\n",
              "      <td>815.94</td>\n",
              "      <td>163.19</td>\n",
              "      <td>368.910000</td>\n",
              "      <td>-0.55764</td>\n",
              "    </tr>\n",
              "    <tr>\n",
              "      <th>17</th>\n",
              "      <td>Uber Bazaar</td>\n",
              "      <td>4.0</td>\n",
              "      <td>4.0</td>\n",
              "      <td>304.24</td>\n",
              "      <td>2242.57</td>\n",
              "      <td>448.51</td>\n",
              "      <td>1030.840000</td>\n",
              "      <td>-0.56491</td>\n",
              "    </tr>\n",
              "    <tr>\n",
              "      <th>0</th>\n",
              "      <td>Amazon FBA</td>\n",
              "      <td>6.0</td>\n",
              "      <td>6.0</td>\n",
              "      <td>93.27</td>\n",
              "      <td>426.58</td>\n",
              "      <td>85.32</td>\n",
              "      <td>109.780000</td>\n",
              "      <td>-0.22281</td>\n",
              "    </tr>\n",
              "    <tr>\n",
              "      <th>7</th>\n",
              "      <td>Doba</td>\n",
              "      <td>0.0</td>\n",
              "      <td>0.0</td>\n",
              "      <td>0.00</td>\n",
              "      <td>87.72</td>\n",
              "      <td>17.54</td>\n",
              "      <td>61.490000</td>\n",
              "      <td>-0.71475</td>\n",
              "    </tr>\n",
              "    <tr>\n",
              "      <th>6</th>\n",
              "      <td>Casagear</td>\n",
              "      <td>0.0</td>\n",
              "      <td>0.0</td>\n",
              "      <td>0.00</td>\n",
              "      <td>1672.26</td>\n",
              "      <td>334.45</td>\n",
              "      <td>562.130000</td>\n",
              "      <td>-0.40503</td>\n",
              "    </tr>\n",
              "    <tr>\n",
              "      <th>5</th>\n",
              "      <td>BENZARA WHOLESALE</td>\n",
              "      <td>0.0</td>\n",
              "      <td>0.0</td>\n",
              "      <td>0.00</td>\n",
              "      <td>133.50</td>\n",
              "      <td>26.70</td>\n",
              "      <td>174.660000</td>\n",
              "      <td>-0.84713</td>\n",
              "    </tr>\n",
              "    <tr>\n",
              "      <th>4</th>\n",
              "      <td>Amazon Vendor US</td>\n",
              "      <td>0.0</td>\n",
              "      <td>0.0</td>\n",
              "      <td>0.00</td>\n",
              "      <td>54683.25</td>\n",
              "      <td>10936.65</td>\n",
              "      <td>5949.350000</td>\n",
              "      <td>0.83829</td>\n",
              "    </tr>\n",
              "    <tr>\n",
              "      <th>18</th>\n",
              "      <td>Unbeatable</td>\n",
              "      <td>0.0</td>\n",
              "      <td>0.0</td>\n",
              "      <td>0.00</td>\n",
              "      <td>281.29</td>\n",
              "      <td>56.26</td>\n",
              "      <td>270.970000</td>\n",
              "      <td>-0.79238</td>\n",
              "    </tr>\n",
              "    <tr>\n",
              "      <th>19</th>\n",
              "      <td>Vir Ventures Inc</td>\n",
              "      <td>0.0</td>\n",
              "      <td>0.0</td>\n",
              "      <td>0.00</td>\n",
              "      <td>2002.23</td>\n",
              "      <td>400.45</td>\n",
              "      <td>1022.630000</td>\n",
              "      <td>-0.60841</td>\n",
              "    </tr>\n",
              "    <tr>\n",
              "      <th>2</th>\n",
              "      <td>Amazon Vendor CA</td>\n",
              "      <td>0.0</td>\n",
              "      <td>0.0</td>\n",
              "      <td>0.00</td>\n",
              "      <td>2516.01</td>\n",
              "      <td>503.20</td>\n",
              "      <td>726.640000</td>\n",
              "      <td>-0.30750</td>\n",
              "    </tr>\n",
              "  </tbody>\n",
              "</table>\n",
              "</div>"
            ],
            "text/plain": [
              "              Channel  Normal  Quantity  ...  avg_sale        lm_avg  avg_growth\n",
              "22        Total Sales   421.0     512.0  ...  57982.66  54908.908667     0.05598\n",
              "21            Wayfair   227.0     279.0  ...  26181.04  24399.110000     0.07303\n",
              "15          Overstock    32.0      42.0  ...   4356.67   3738.620000     0.16532\n",
              "1          Amazon FBM    52.0      63.0  ...   5831.40   4743.760000     0.22928\n",
              "9      Home Depot.com    21.0      28.0  ...   1283.71    911.120000     0.40894\n",
              "8           Hayneedle     8.0      11.0  ...   1119.95    813.080000     0.37742\n",
              "3    Amazon Vendor DS    19.0      20.0  ...   1184.41    776.240000     0.52583\n",
              "14           Open Sky    19.0      22.0  ...   1656.01   2753.440000    -0.39857\n",
              "11              Macys     3.0       5.0  ...    968.37    665.360000     0.45541\n",
              "16         Target.com     8.0       8.0  ...    609.61   3446.320000    -0.82311\n",
              "12        OJ Commerce     5.0       6.0  ...    945.77   1730.410000    -0.45344\n",
              "13       Ocean Tailer     3.0       3.0  ...    525.34    335.310000     0.56673\n",
              "20            Walmart    10.0      11.0  ...    348.11    227.230000     0.53197\n",
              "10              Lowes     4.0       4.0  ...    163.19    368.910000    -0.55764\n",
              "17        Uber Bazaar     4.0       4.0  ...    448.51   1030.840000    -0.56491\n",
              "0          Amazon FBA     6.0       6.0  ...     85.32    109.780000    -0.22281\n",
              "7                Doba     0.0       0.0  ...     17.54     61.490000    -0.71475\n",
              "6            Casagear     0.0       0.0  ...    334.45    562.130000    -0.40503\n",
              "5   BENZARA WHOLESALE     0.0       0.0  ...     26.70    174.660000    -0.84713\n",
              "4    Amazon Vendor US     0.0       0.0  ...  10936.65   5949.350000     0.83829\n",
              "18         Unbeatable     0.0       0.0  ...     56.26    270.970000    -0.79238\n",
              "19   Vir Ventures Inc     0.0       0.0  ...    400.45   1022.630000    -0.60841\n",
              "2    Amazon Vendor CA     0.0       0.0  ...    503.20    726.640000    -0.30750\n",
              "\n",
              "[23 rows x 8 columns]"
            ]
          },
          "metadata": {
            "tags": []
          },
          "execution_count": 48
        }
      ]
    },
    {
      "cell_type": "markdown",
      "metadata": {
        "id": "CMcgOEJ7zxqK",
        "colab_type": "text"
      },
      "source": [
        "## Merge SKUs wise sale to vendor and channel"
      ]
    },
    {
      "cell_type": "code",
      "metadata": {
        "id": "_m8J9ZfDlaxz",
        "colab_type": "code",
        "colab": {}
      },
      "source": [
        "# sku_total_today\n",
        "sku_total_temp = total_file.groupby([total_file['Normal'].rename('SKU'),total_file['Sales Channel'].rename('Channel'), total_file['Vendor'].rename('Vendor')]).agg({'Quantity':'sum','Line Total': 'sum'}).rename(columns={\"Line Total\": \"sale\"}).sort_values(by=['sale', 'SKU'], ascending=False).reset_index()\n",
        "sku_import_temp = import_file.groupby([import_file['Normal'].rename('SKU'), import_file['Vendor'].rename('Vendor')]).agg({'Quantity':'sum','Line Total': 'sum'}).rename(columns={\"Line Total\": \"sale\"}).sort_values(by=['sale'], ascending=False).reset_index()\n",
        "sku_ware_temp = ware_vendor_file.groupby([ware_vendor_file['Normal'].rename('SKU'),ware_vendor_file['Sales Channel'].rename('Channel'), ware_vendor_file['Vendor'].rename('Vendor')]).agg({'Quantity':'sum','Line Total': 'sum'}).rename(columns={\"Line Total\": \"sale\"}).sort_values(by=['sale', 'SKU'], ascending=False).reset_index()\n",
        "sku_dropship_temp = dropship_file.groupby([dropship_file['Normal'].rename('SKU'),dropship_file['Sales Channel'].rename('Channel'), dropship_file['Vendor'].rename('Vendor')]).agg({'Quantity':'sum','Line Total': 'sum'}).rename(columns={\"Line Total\": \"sale\"}).sort_values(by=['sale', 'SKU'], ascending=False).reset_index()\n",
        "sku_closeout_temp = closeout_file.groupby([closeout_file['Normal'].rename('SKU'),closeout_file['Sales Channel'].rename('Channel'), closeout_file['Vendor'].rename('Vendor')]).agg({'Quantity':'sum','Line Total': 'sum'}).rename(columns={\"Line Total\": \"sale\"}).sort_values(by=['sale', 'SKU'], ascending=False).reset_index()"
      ],
      "execution_count": 0,
      "outputs": []
    },
    {
      "cell_type": "code",
      "metadata": {
        "id": "l5lhadcmdC86",
        "colab_type": "code",
        "outputId": "ed02c03e-dd4f-4149-eeff-5243982a65d8",
        "colab": {
          "base_uri": "https://localhost:8080/",
          "height": 204
        }
      },
      "source": [
        "sku_total_temp.head()"
      ],
      "execution_count": 50,
      "outputs": [
        {
          "output_type": "execute_result",
          "data": {
            "text/html": [
              "<div>\n",
              "<style scoped>\n",
              "    .dataframe tbody tr th:only-of-type {\n",
              "        vertical-align: middle;\n",
              "    }\n",
              "\n",
              "    .dataframe tbody tr th {\n",
              "        vertical-align: top;\n",
              "    }\n",
              "\n",
              "    .dataframe thead th {\n",
              "        text-align: right;\n",
              "    }\n",
              "</style>\n",
              "<table border=\"1\" class=\"dataframe\">\n",
              "  <thead>\n",
              "    <tr style=\"text-align: right;\">\n",
              "      <th></th>\n",
              "      <th>SKU</th>\n",
              "      <th>Channel</th>\n",
              "      <th>Vendor</th>\n",
              "      <th>Quantity</th>\n",
              "      <th>sale</th>\n",
              "    </tr>\n",
              "  </thead>\n",
              "  <tbody>\n",
              "    <tr>\n",
              "      <th>0</th>\n",
              "      <td>HLD-5265DTBCW7</td>\n",
              "      <td>Amazon FBM</td>\n",
              "      <td>Hillsdale Furniture</td>\n",
              "      <td>1.0</td>\n",
              "      <td>1747.85</td>\n",
              "    </tr>\n",
              "    <tr>\n",
              "      <th>1</th>\n",
              "      <td>BM207592</td>\n",
              "      <td>Wayfair</td>\n",
              "      <td>FOA Wholesale</td>\n",
              "      <td>2.0</td>\n",
              "      <td>1740.16</td>\n",
              "    </tr>\n",
              "    <tr>\n",
              "      <th>2</th>\n",
              "      <td>UPT-37910</td>\n",
              "      <td>Wayfair</td>\n",
              "      <td>Aaina Craft</td>\n",
              "      <td>25.0</td>\n",
              "      <td>1152.00</td>\n",
              "    </tr>\n",
              "    <tr>\n",
              "      <th>3</th>\n",
              "      <td>FOA-CM3324BK-SC-2PK</td>\n",
              "      <td>Hayneedle</td>\n",
              "      <td>FOA Wholesale</td>\n",
              "      <td>3.0</td>\n",
              "      <td>863.34</td>\n",
              "    </tr>\n",
              "    <tr>\n",
              "      <th>4</th>\n",
              "      <td>FOA-CM3321PT-5PK</td>\n",
              "      <td>Wayfair</td>\n",
              "      <td>FOA Wholesale</td>\n",
              "      <td>2.0</td>\n",
              "      <td>835.28</td>\n",
              "    </tr>\n",
              "  </tbody>\n",
              "</table>\n",
              "</div>"
            ],
            "text/plain": [
              "                   SKU     Channel               Vendor  Quantity     sale\n",
              "0       HLD-5265DTBCW7  Amazon FBM  Hillsdale Furniture       1.0  1747.85\n",
              "1             BM207592     Wayfair        FOA Wholesale       2.0  1740.16\n",
              "2            UPT-37910     Wayfair          Aaina Craft      25.0  1152.00\n",
              "3  FOA-CM3324BK-SC-2PK   Hayneedle        FOA Wholesale       3.0   863.34\n",
              "4     FOA-CM3321PT-5PK     Wayfair        FOA Wholesale       2.0   835.28"
            ]
          },
          "metadata": {
            "tags": []
          },
          "execution_count": 50
        }
      ]
    },
    {
      "cell_type": "markdown",
      "metadata": {
        "id": "4kduxvwSdSfl",
        "colab_type": "text"
      },
      "source": [
        "## Convert File to Excel"
      ]
    },
    {
      "cell_type": "code",
      "metadata": {
        "id": "GoU8eT3z3U-v",
        "colab_type": "code",
        "colab": {}
      },
      "source": [
        "writer = pd.ExcelWriter('channel Performance '+receive_date+'.xlsx', engine='xlsxwriter')\n",
        "\n",
        "channel_total_p.to_excel(writer, sheet_name='total_c')\n",
        "vendor_total_p.to_excel(writer, sheet_name='total_v')\n",
        "sku_total_temp.to_excel(writer, sheet_name='total_s')\n",
        "writer.save()\n",
        "\n",
        "writer = pd.ExcelWriter('Import Performance '+receive_date+'.xlsx', engine='xlsxwriter')\n",
        "\n",
        "channel_import_p.to_excel(writer, sheet_name='import_c')\n",
        "vendor_import_p.to_excel(writer, sheet_name='import_v')\n",
        "sku_import_temp.to_excel(writer, sheet_name='import_s')\n",
        "writer.save()\n",
        "\n",
        "writer = pd.ExcelWriter('WareHouse Performance '+receive_date+'.xlsx', engine='xlsxwriter')\n",
        "\n",
        "channel_ware_p.to_excel(writer, sheet_name='ware_c')\n",
        "vendor_ware_p.to_excel(writer, sheet_name='ware_v')\n",
        "sku_ware_temp.to_excel(writer, sheet_name='ware_s')\n",
        "writer.save()\n",
        "\n",
        "writer = pd.ExcelWriter('Dropship Performance '+receive_date+'.xlsx', engine='xlsxwriter')\n",
        "\n",
        "channel_drop_p.to_excel(writer, sheet_name='drop_c')\n",
        "vendor_drop_p.to_excel(writer, sheet_name='drop_v')\n",
        "sku_dropship_temp.to_excel(writer, sheet_name='drop_s')\n",
        "writer.save()\n",
        "\n",
        "writer = pd.ExcelWriter('CloseOut Performance '+receive_date+'.xlsx', engine='xlsxwriter')\n",
        "\n",
        "channel_close_p.to_excel(writer, sheet_name='close_c')\n",
        "vendor_close_p.to_excel(writer, sheet_name='close_v')\n",
        "sku_closeout_temp.to_excel(writer, sheet_name='close_s')\n",
        "writer.save()\n",
        "\n",
        "writer.close()"
      ],
      "execution_count": 0,
      "outputs": []
    },
    {
      "cell_type": "markdown",
      "metadata": {
        "id": "QVW9EmsaVvC3",
        "colab_type": "text"
      },
      "source": [
        "## Download Sale File Order Wise"
      ]
    },
    {
      "cell_type": "code",
      "metadata": {
        "id": "PmRO6eO8ED-p",
        "colab_type": "code",
        "colab": {}
      },
      "source": [
        "from google.colab import files\n",
        "files.download('channel Performance '+receive_date+'.xlsx')\n",
        "files.download('Import Performance '+receive_date+'.xlsx')\n",
        "files.download('WareHouse Performance '+receive_date+'.xlsx')\n",
        "files.download('Dropship Performance '+receive_date+'.xlsx')\n",
        "files.download('CloseOut Performance '+receive_date+'.xlsx')"
      ],
      "execution_count": 0,
      "outputs": []
    }
  ]
}